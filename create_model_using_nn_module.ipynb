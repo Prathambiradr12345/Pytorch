{
  "nbformat": 4,
  "nbformat_minor": 0,
  "metadata": {
    "colab": {
      "provenance": [],
      "authorship_tag": "ABX9TyPdTiQt+aoJolhOqzIsC7Bw",
      "include_colab_link": true
    },
    "kernelspec": {
      "name": "python3",
      "display_name": "Python 3"
    },
    "language_info": {
      "name": "python"
    }
  },
  "cells": [
    {
      "cell_type": "markdown",
      "metadata": {
        "id": "view-in-github",
        "colab_type": "text"
      },
      "source": [
        "<a href=\"https://colab.research.google.com/github/Prathambiradr12345/Pytorch/blob/main/create_model_using_nn_module.ipynb\" target=\"_parent\"><img src=\"https://colab.research.google.com/assets/colab-badge.svg\" alt=\"Open In Colab\"/></a>"
      ]
    },
    {
      "cell_type": "code",
      "execution_count": 1,
      "metadata": {
        "id": "3S40ULnm87cP"
      },
      "outputs": [],
      "source": [
        "#create model Class\n",
        "import torch\n",
        "import torch.nn as nn\n",
        "class model(nn.Module):\n",
        "    def __init__(self,num_features):\n",
        "        super().__init__()\n",
        "        self.network=nn.Sequential(\n",
        "            nn.Linear(num_features,3),\n",
        "            nn.ReLU(),\n",
        "            nn.Linear(3,1),\n",
        "            nn.Sigmoid()\n",
        "        )\n",
        "    def forward(self,features):\n",
        "      o=self.network(features)\n",
        "      return o\n",
        ""
      ]
    },
    {
      "cell_type": "code",
      "source": [
        "features=torch.rand(10,5)\n",
        "model=model(features.shape[1])\n",
        "model(features)"
      ],
      "metadata": {
        "colab": {
          "base_uri": "https://localhost:8080/"
        },
        "id": "KwjSzNwg9jjj",
        "outputId": "848130da-a066-4ef3-a96d-b896600281fc"
      },
      "execution_count": 2,
      "outputs": [
        {
          "output_type": "execute_result",
          "data": {
            "text/plain": [
              "tensor([[0.3461],\n",
              "        [0.3495],\n",
              "        [0.3409],\n",
              "        [0.3548],\n",
              "        [0.3396],\n",
              "        [0.3482],\n",
              "        [0.3493],\n",
              "        [0.3550],\n",
              "        [0.3454],\n",
              "        [0.3390]], grad_fn=<SigmoidBackward0>)"
            ]
          },
          "metadata": {},
          "execution_count": 2
        }
      ]
    },
    {
      "source": [
        "model.network[0].weight # Accessing the first linear layer's weight"
      ],
      "cell_type": "code",
      "metadata": {
        "colab": {
          "base_uri": "https://localhost:8080/"
        },
        "id": "ngUEMA6q-dha",
        "outputId": "a2b79329-ead4-48be-c4b1-feeb81b9e281"
      },
      "execution_count": 4,
      "outputs": [
        {
          "output_type": "execute_result",
          "data": {
            "text/plain": [
              "Parameter containing:\n",
              "tensor([[-0.0428, -0.4009, -0.0907, -0.2596,  0.0846],\n",
              "        [-0.3329,  0.2007, -0.3462,  0.2970,  0.3343],\n",
              "        [ 0.3960, -0.2269,  0.1652, -0.1910,  0.1442]], requires_grad=True)"
            ]
          },
          "metadata": {},
          "execution_count": 4
        }
      ]
    },
    {
      "cell_type": "code",
      "source": [
        "from torchsummary import summary\n",
        "summary(model,input_size=(10,5))"
      ],
      "metadata": {
        "colab": {
          "base_uri": "https://localhost:8080/"
        },
        "id": "Ni0ZmifN-X57",
        "outputId": "bf20e855-4b98-4c2b-c27c-97f88a12c9aa"
      },
      "execution_count": 5,
      "outputs": [
        {
          "output_type": "stream",
          "name": "stdout",
          "text": [
            "----------------------------------------------------------------\n",
            "        Layer (type)               Output Shape         Param #\n",
            "================================================================\n",
            "            Linear-1                [-1, 10, 3]              18\n",
            "              ReLU-2                [-1, 10, 3]               0\n",
            "            Linear-3                [-1, 10, 1]               4\n",
            "           Sigmoid-4                [-1, 10, 1]               0\n",
            "================================================================\n",
            "Total params: 22\n",
            "Trainable params: 22\n",
            "Non-trainable params: 0\n",
            "----------------------------------------------------------------\n",
            "Input size (MB): 0.00\n",
            "Forward/backward pass size (MB): 0.00\n",
            "Params size (MB): 0.00\n",
            "Estimated Total Size (MB): 0.00\n",
            "----------------------------------------------------------------\n"
          ]
        }
      ]
    }
  ]
}